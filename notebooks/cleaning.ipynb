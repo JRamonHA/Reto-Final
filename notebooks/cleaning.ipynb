{
 "cells": [
  {
   "cell_type": "code",
   "execution_count": 1,
   "metadata": {},
   "outputs": [],
   "source": [
    "import pandas as pd\n",
    "import glob"
   ]
  },
  {
   "cell_type": "code",
   "execution_count": 2,
   "metadata": {},
   "outputs": [],
   "source": [
    "archivos = glob.glob('../data/raw/*.csv')"
   ]
  },
  {
   "cell_type": "code",
   "execution_count": 3,
   "metadata": {},
   "outputs": [],
   "source": [
    "for f in archivos:\n",
    "    esol = pd.read_csv(f, encoding='ISO-8859-1', skiprows=[0, 2, 3], index_col=0, parse_dates=True, dayfirst=True)\n",
    "    del esol['RECORD']\n",
    "    del esol['I_dir_Avg']\n",
    "    esol = esol.apply(pd.to_numeric, errors='coerce')\n",
    "    processed = f.replace('../data/raw', '../data/proc').replace('.csv', '.parquet')\n",
    "    esol.to_parquet(processed)"
   ]
  }
 ],
 "metadata": {
  "kernelspec": {
   "display_name": "shiny",
   "language": "python",
   "name": "python3"
  },
  "language_info": {
   "codemirror_mode": {
    "name": "ipython",
    "version": 3
   },
   "file_extension": ".py",
   "mimetype": "text/x-python",
   "name": "python",
   "nbconvert_exporter": "python",
   "pygments_lexer": "ipython3",
   "version": "3.12.7"
  }
 },
 "nbformat": 4,
 "nbformat_minor": 2
}
